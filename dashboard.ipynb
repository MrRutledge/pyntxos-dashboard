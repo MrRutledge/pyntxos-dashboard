{
 "cells": [
  {
   "cell_type": "code",
   "execution_count": 249,
   "metadata": {},
   "outputs": [],
   "source": [
    "import utils.data\n",
    "import utils.opt\n",
    "import utils.viz\n",
    "import ipywidgets as widgets"
   ]
  },
  {
   "cell_type": "markdown",
   "metadata": {},
   "source": [
    "## Pintxo route finder for EuroSciPy 2019"
   ]
  },
  {
   "cell_type": "code",
   "execution_count": 250,
   "metadata": {},
   "outputs": [],
   "source": [
    "data = utils.data.load()\n",
    "df = utils.opt.get_df(data)"
   ]
  },
  {
   "cell_type": "code",
   "execution_count": 251,
   "metadata": {},
   "outputs": [],
   "source": [
    "pintxos_start = widgets.Dropdown(options=[item['name'] for item in data])\n",
    "pintxos_end = widgets.Dropdown(options=[item['name'] for item in data], index=1)\n",
    "number_of_pintxos = widgets.IntSlider(value=10, min=2, max=len(data),continuous_update=False)\n",
    "distance_measure = widgets.Dropdown(options=['Manhattan', 'Euclidean', 'Infinity', 1.1, 1.25, 1.5, 1.75])"
   ]
  },
  {
   "cell_type": "code",
   "execution_count": 252,
   "metadata": {},
   "outputs": [
    {
     "data": {
      "application/vnd.jupyter.widget-view+json": {
       "model_id": "5fbdeb8aee274faba5cca8434ee0e8cc",
       "version_major": 2,
       "version_minor": 0
      },
      "text/plain": [
       "interactive(children=(Dropdown(description='Start', options=('Urkia Taberna', 'El Colmado Ibérico', 'Argoitia'…"
      ]
     },
     "metadata": {},
     "output_type": "display_data"
    }
   ],
   "source": [
    "@widgets.interact(Start=pintxos_start, End=pintxos_end, Number=number_of_pintxos, Measure=distance_measure)\n",
    "def get_map(Start, End, Number, Measure):\n",
    "    route = utils.opt.get_shortest_path(\n",
    "        df=df,\n",
    "        start=Start, \n",
    "        end=End,\n",
    "        n_stops=Number,\n",
    "        distance_measure=Measure,\n",
    "    )\n",
    "    display(utils.viz.get_map(data=data, route=route))"
   ]
  }
 ],
 "metadata": {
  "kernelspec": {
   "display_name": "Python 3",
   "language": "python",
   "name": "python3"
  },
  "language_info": {
   "codemirror_mode": {
    "name": "ipython",
    "version": 3
   },
   "file_extension": ".py",
   "mimetype": "text/x-python",
   "name": "python",
   "nbconvert_exporter": "python",
   "pygments_lexer": "ipython3",
   "version": "3.7.4"
  }
 },
 "nbformat": 4,
 "nbformat_minor": 2
}
